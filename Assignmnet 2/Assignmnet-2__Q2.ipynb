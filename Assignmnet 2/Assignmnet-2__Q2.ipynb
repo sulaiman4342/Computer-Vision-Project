{
  "nbformat": 4,
  "nbformat_minor": 0,
  "metadata": {
    "colab": {
      "provenance": []
    },
    "kernelspec": {
      "name": "python3",
      "display_name": "Python 3"
    },
    "language_info": {
      "name": "python"
    }
  },
  "cells": [
    {
      "cell_type": "code",
      "execution_count": 3,
      "metadata": {
        "id": "gI3bk4tAWKlk"
      },
      "outputs": [],
      "source": [
        "import cv2\n",
        "import numpy as np\n",
        "from collections import deque\n",
        "from google.colab.patches import cv2_imshow"
      ]
    },
    {
      "cell_type": "code",
      "source": [
        "# Synthetic image creation (same as Q1)\n",
        "synthetic_img = np.zeros((100, 100), dtype=np.uint8)\n",
        "synthetic_img[20:50, 20:50] = 85    # Object 1\n",
        "synthetic_img[60:90, 60:90] = 170   # Object 2\n",
        "\n",
        "# Display the synthetic image\n",
        "print(\"Synthetic Image (for region growing):\")\n",
        "cv2_imshow(synthetic_img)"
      ],
      "metadata": {
        "colab": {
          "base_uri": "https://localhost:8080/",
          "height": 134
        },
        "id": "RkyObEMhYYR6",
        "outputId": "3c3f645d-9665-47e8-e622-4b9c44dc43e7"
      },
      "execution_count": 4,
      "outputs": [
        {
          "output_type": "stream",
          "name": "stdout",
          "text": [
            "Synthetic Image (for region growing):\n"
          ]
        },
        {
          "output_type": "display_data",
          "data": {
            "text/plain": [
              "<PIL.Image.Image image mode=L size=100x100>"
            ],
            "image/png": "[encoded data removed]",
            "image/jpeg": "[encoded data removed]"
          },
          "metadata": {}
        }
      ]
    },
    {
      "cell_type": "code",
      "source": [
        "def region_growing(image, seed_point, threshold):\n",
        "  height, width = image.shape\n",
        "  seed_value = int(image[seed_point[1], seed_point[0]])\n",
        "  visited = np.zeros_like(image, dtype=bool)\n",
        "  segmented = np.zeros_like(image, dtype=np.uint8)\n",
        "\n",
        "  # Use a queue for iterative BFS\n",
        "  queue = deque()\n",
        "  queue.append(seed_point)\n",
        "\n",
        "  while queue:\n",
        "    x, y = queue.popleft()\n",
        "\n",
        "    if visited[y, x]:\n",
        "      continue\n",
        "\n",
        "    current_value = int(image[y, x])\n",
        "    if abs(current_value - seed_value) <= threshold:\n",
        "      segmented[y, x] = 255\n",
        "      visited[y, x] = True\n",
        "\n",
        "      # Explore 4-connected neighbors\n",
        "      for dx, dy in [(-1, 0), (1, 0), (0, -1), (0, 1)]:\n",
        "        nx, ny = x + dx, y + dy\n",
        "        if 0 <= nx < width and 0 <= ny < height:\n",
        "          if not visited[ny, nx]:\n",
        "            queue.append((nx, ny))\n",
        "\n",
        "  return segmented"
      ],
      "metadata": {
        "id": "6YFNUA-qYkLx"
      },
      "execution_count": 5,
      "outputs": []
    },
    {
      "cell_type": "code",
      "source": [
        "# Define seed and threshold\n",
        "seed_point = (25, 25)  # (x, y) format\n",
        "threshold = 10\n",
        "\n",
        "# Apply region growing\n",
        "segmented_img = region_growing(synthetic_img, seed_point, threshold)\n",
        "\n",
        "# Display the result\n",
        "print(f\"Segmented Region from Seed {seed_point} with Threshold ±{threshold}:\")\n",
        "cv2_imshow(segmented_img)"
      ],
      "metadata": {
        "colab": {
          "base_uri": "https://localhost:8080/",
          "height": 134
        },
        "id": "CmTOBljJYsc5",
        "outputId": "1a5962d9-c86b-4df9-f484-5a75a62e2e54"
      },
      "execution_count": 12,
      "outputs": [
        {
          "output_type": "stream",
          "name": "stdout",
          "text": [
            "Segmented Region from Seed (25, 25) with Threshold ±10:\n"
          ]
        },
        {
          "output_type": "display_data",
          "data": {
            "text/plain": [
              "<PIL.Image.Image image mode=L size=100x100>"
            ],
            "image/png": "[encoded data removed]",
            "image/jpeg": "[encoded data removed]"
          },
          "metadata": {}
        }
      ]
    },
    {
      "cell_type": "code",
      "source": [],
      "metadata": {
        "id": "3QRDZnAVY1XZ"
      },
      "execution_count": null,
      "outputs": []
    }
  ]
}